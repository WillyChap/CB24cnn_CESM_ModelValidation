{
 "cells": [
  {
   "cell_type": "code",
   "execution_count": 1,
   "id": "d3a0e5d6-f0cb-447b-b124-e0ee5646539b",
   "metadata": {},
   "outputs": [],
   "source": [
    "import xarray as xr \n",
    "import numpy as np \n",
    "import matplotlib.pyplot as plt\n",
    "import os \n",
    "import pandas as pd"
   ]
  },
  {
   "cell_type": "code",
   "execution_count": 2,
   "id": "c412dde7-4bce-400b-9cfc-29817a8404ed",
   "metadata": {},
   "outputs": [],
   "source": [
    "dir_in = '/glade/derecho/scratch/wchapman/ADF/f.e.FTORCHmjo_MEANmjo/ts/'\n",
    "f_in = 'f.e.FTORCHmjo_MEANmjo.cam.h1.FLUT.1979010100000-1993122700000.nc'\n",
    "var_name = 'FLUT'\n",
    "file_path = os.path.join(dir_in, f_in)  # Join the directory and file name\n",
    "DS = xr.open_dataset(file_path)"
   ]
  },
  {
   "cell_type": "markdown",
   "id": "77175e34-d8ca-409e-833c-847e5b693901",
   "metadata": {},
   "source": [
    "## Functions"
   ]
  },
  {
   "cell_type": "code",
   "execution_count": 3,
   "id": "396e7342-a733-4267-8a51-9556c5b0eeb0",
   "metadata": {},
   "outputs": [],
   "source": [
    "def is_doyrange(doy,dd,tod,hh):\n",
    "    daywind = 15\n",
    "    if (dd - daywind) < 1:\n",
    "        return ((doy >= (366+(dd-daywind))) | (doy <= dd+daywind)) & (tod==hh)\n",
    "        \n",
    "    elif (dd + daywind) > 366:\n",
    "        return ((((doy <= 366) & (doy>=(dd-daywind))) | (doy <= (-1*((366-(dd-daywind))-(2*daywind)))  )))&(tod==hh)\n",
    "    \n",
    "    else:\n",
    "        return ((doy >= dd-daywind) & (doy <= dd+daywind))&(tod==hh)"
   ]
  },
  {
   "cell_type": "markdown",
   "id": "5b948c7f-a18d-40a3-933a-8c34d5f6c1ff",
   "metadata": {},
   "source": [
    "## Make a climo \n",
    "find the first leap year:"
   ]
  },
  {
   "cell_type": "code",
   "execution_count": 4,
   "id": "ec982a62-fe21-49b3-9a01-ef54491c9cde",
   "metadata": {},
   "outputs": [
    {
     "name": "stdout",
     "output_type": "stream",
     "text": [
      "First leap year in the dataset: 1980.0\n"
     ]
    }
   ],
   "source": [
    "def is_leap_year(years):\n",
    "    \"\"\"Vectorized check for leap years, suitable for arrays.\"\"\"\n",
    "    return (years % 4 == 0) & ((years % 100 != 0) | (years % 400 == 0))\n",
    "\n",
    "# Using xarray, apply the function across the 'time' coordinate\n",
    "# First, ensure 'time' is recognized as datetime objects\n",
    "# Convert time to datetime if not already done\n",
    "# DS['time'] = xr.DataArray(pd.to_datetime(DS.time.values), dims=['time'])\n",
    "\n",
    "# Extract year from 'time' coordinate\n",
    "years = DS['time'].dt.year\n",
    "\n",
    "# Use the vectorized function to find leap years\n",
    "leap_year_mask = is_leap_year(years)\n",
    "\n",
    "# Apply mask to the years data and drop all non-leap years\n",
    "leap_years = years.where(leap_year_mask, drop=True)\n",
    "\n",
    "# Extract the first leap year\n",
    "if len(leap_years) ==0:\n",
    "    first_leap_year = float(DS['time.year'][0])\n",
    "else:\n",
    "    first_leap_year = leap_years.min().values  # Extract the minimum year, which is the first leap year\n",
    "\n",
    "print(\"First leap year in the dataset:\", first_leap_year)"
   ]
  },
  {
   "cell_type": "code",
   "execution_count": 5,
   "id": "6445a4c5-218c-4473-b4f9-6dcf207e87c3",
   "metadata": {},
   "outputs": [
    {
     "name": "stdout",
     "output_type": "stream",
     "text": [
      "... creating climo from centered 30 day average for FLUT...\n",
      "doing  0  of 366\n",
      "doing  20  of 366\n",
      "doing  40  of 366\n",
      "doing  60  of 366\n",
      "doing  80  of 366\n",
      "doing  100  of 366\n",
      "doing  120  of 366\n",
      "doing  140  of 366\n",
      "doing  160  of 366\n",
      "doing  180  of 366\n",
      "doing  200  of 366\n",
      "doing  220  of 366\n",
      "doing  240  of 366\n",
      "doing  260  of 366\n",
      "doing  280  of 366\n",
      "doing  300  of 366\n",
      "doing  320  of 366\n",
      "doing  340  of 366\n",
      "doing  360  of 366\n",
      "======= make anoms  =======\n",
      "CPU times: user 1min 3s, sys: 1min 44s, total: 2min 48s\n",
      "Wall time: 4min 59s\n"
     ]
    }
   ],
   "source": [
    "%%time\n",
    "DS_climo = xr.zeros_like(DS.sel(time=slice(f'{int(first_leap_year)}',f'{int(first_leap_year)}'))[var_name])\n",
    "print(f'... creating climo from centered 30 day average for {var_name}...')\n",
    "for ee,dayhr in (enumerate(DS.sel(time=slice(f'{int(first_leap_year)}',f'{int(first_leap_year+1)}')).time)):\n",
    "    if ee%20 ==0:\n",
    "        print('doing ',ee,' of 366')\n",
    "    dooDOY = dayhr['time.dayofyear']\n",
    "    hh=dayhr['time.hour']\n",
    "    Dtemp = DS.sel(time=is_doyrange(DS['time.dayofyear'],dooDOY,DS['time.hour'],hh))[[var_name]].mean(['time'])\n",
    "    \n",
    "    DS_climo[ee,:,:] = Dtemp[var_name].values\n",
    "\n",
    "    if ee == DS_climo.shape[0]-1:\n",
    "        endee=ee\n",
    "        enddate = dayhr\n",
    "        break\n",
    "\n",
    "DS_climo.to_dataset().to_netcdf(f'{dir_in}{var_name}_climo.nc')\n",
    "print('======= make anoms  =======')\n",
    "varsp=f_in.split(var_name)\n",
    "anom = DS[var_name].groupby('time.dayofyear')-DS_climo.groupby('time.dayofyear').mean(\"time\")\n",
    "anom = anom.to_dataset()\n",
    "anom[var_name].attrs = DS[var_name].attrs\n",
    "anom.to_netcdf(f'{dir_in}{varsp[0]}{var_name}.anomalies{varsp[-1]}')"
   ]
  },
  {
   "cell_type": "code",
   "execution_count": null,
   "id": "d605a7e1-1fce-48c6-a62f-6e10a6c47455",
   "metadata": {},
   "outputs": [],
   "source": []
  },
  {
   "cell_type": "code",
   "execution_count": 6,
   "id": "38b7f039-d5f3-4db3-b0ce-cf16e8ade151",
   "metadata": {},
   "outputs": [],
   "source": [
    "dir_in = '/glade/derecho/scratch/wchapman/ADF/f.e.FTORCHmjo_MEANmjo/ts/'\n",
    "f_in = 'f.e.FTORCHmjo_MEANmjo.cam.h1.FLUT.1979010100000-1993122700000.nc'\n",
    "var_name = 'FLUT'\n",
    "file_path = os.path.join(dir_in, f_in)  # Join the directory and file name\n",
    "DS = xr.open_dataset(file_path)"
   ]
  },
  {
   "cell_type": "code",
   "execution_count": null,
   "id": "c3b80466-93c8-488c-9f22-45c12de0614b",
   "metadata": {},
   "outputs": [],
   "source": []
  },
  {
   "cell_type": "code",
   "execution_count": null,
   "id": "96ff4dc4-ff8c-4654-922e-0c8ccac512a4",
   "metadata": {},
   "outputs": [],
   "source": []
  },
  {
   "cell_type": "code",
   "execution_count": 12,
   "id": "ebae6ed4-d215-41c4-8456-31be033f6862",
   "metadata": {},
   "outputs": [],
   "source": [
    "def is_doyrange(doy,dd,tod,hh):\n",
    "    daywind = 45\n",
    "    if (dd - daywind) < 1:\n",
    "        return ((doy >= (366+(dd-daywind))) | (doy <= dd+daywind)) & (tod==hh)\n",
    "        \n",
    "    elif (dd + daywind) > 366:\n",
    "        return ((((doy <= 366) & (doy>=(dd-daywind))) | (doy <= (-1*((366-(dd-daywind))-(2*daywind)))  )))&(tod==hh)\n",
    "    \n",
    "    else:\n",
    "        return ((doy >= dd-daywind) & (doy <= dd+daywind))&(tod==hh)"
   ]
  },
  {
   "cell_type": "code",
   "execution_count": null,
   "id": "1f678b60-6867-4b8c-9312-ab764c8c911d",
   "metadata": {},
   "outputs": [],
   "source": [
    "is_doyrange(doy,dd,tod,hh)"
   ]
  },
  {
   "cell_type": "code",
   "execution_count": 10,
   "id": "c5986efb-65c4-432e-8b9a-e61d286dab04",
   "metadata": {},
   "outputs": [
    {
     "data": {
      "text/plain": [
       "0"
      ]
     },
     "execution_count": 10,
     "metadata": {},
     "output_type": "execute_result"
    }
   ],
   "source": [
    "ttin = pd.to_datetime('2010-04-01')\n",
    "ttin.hour"
   ]
  },
  {
   "cell_type": "code",
   "execution_count": null,
   "id": "93d17083-69c7-47d7-a396-7246948a742b",
   "metadata": {},
   "outputs": [],
   "source": [
    "time=is_doyrange(DS['time.dayofyear'],dooDOY,DS['time.hour'],hh))[[var_name]].mean(['time']"
   ]
  },
  {
   "cell_type": "code",
   "execution_count": 13,
   "id": "cad6ae6d-f186-472d-a968-ca38e0a3109a",
   "metadata": {},
   "outputs": [],
   "source": [
    "Dtemp = DS.sel(time=is_doyrange(DS['time.dayofyear'],ttin.dayofyear,DS['time.hour'],ttin.hour))[[var_name]]"
   ]
  },
  {
   "cell_type": "code",
   "execution_count": 17,
   "id": "03c23f3c-67ba-4f9a-93d1-c9e3fe1d5926",
   "metadata": {},
   "outputs": [
    {
     "data": {
      "text/plain": [
       "91"
      ]
     },
     "execution_count": 17,
     "metadata": {},
     "output_type": "execute_result"
    }
   ],
   "source": [
    "len(np.unique(Dtemp['time.dayofyear']))"
   ]
  },
  {
   "cell_type": "code",
   "execution_count": null,
   "id": "83603cf3-5225-4eb5-94fa-a166453a7787",
   "metadata": {},
   "outputs": [],
   "source": []
  }
 ],
 "metadata": {
  "kernelspec": {
   "display_name": "NPL 2023b",
   "language": "python",
   "name": "npl-2023b"
  },
  "language_info": {
   "codemirror_mode": {
    "name": "ipython",
    "version": 3
   },
   "file_extension": ".py",
   "mimetype": "text/x-python",
   "name": "python",
   "nbconvert_exporter": "python",
   "pygments_lexer": "ipython3",
   "version": "3.10.12"
  }
 },
 "nbformat": 4,
 "nbformat_minor": 5
}
