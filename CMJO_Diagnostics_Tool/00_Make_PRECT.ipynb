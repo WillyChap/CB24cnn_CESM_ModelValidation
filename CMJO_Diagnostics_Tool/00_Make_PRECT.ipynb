{
 "cells": [
  {
   "cell_type": "code",
   "execution_count": 1,
   "id": "5f212b80-5987-4042-a216-c2173967770a",
   "metadata": {},
   "outputs": [],
   "source": [
    "import xarray as xr \n",
    "import numpy as np \n",
    "import matplotlib.pyplot as plt\n",
    "import os "
   ]
  },
  {
   "cell_type": "code",
   "execution_count": 6,
   "id": "c4e9022b-5630-4781-88fe-ed8e63bbbaa5",
   "metadata": {},
   "outputs": [
    {
     "name": "stdout",
     "output_type": "stream",
     "text": [
      ".... adding ...\n",
      ".... added ...\n",
      "... saving ...\n"
     ]
    }
   ],
   "source": [
    "## +++ vars in: \n",
    "f1_in='f.e.FTORCHmjo_fullCNN_DT.cam.h1.PRECC.1979010100000-1990123100000.nc'\n",
    "f2_in='f.e.FTORCHmjo_fullCNN_DT.cam.h1.PRECL.1979010100000-1990123100000.nc'\n",
    "f_out='f.e.FTORCHmjo_fullCNN_DT.cam.h1.PRECT.1979010100000-1990123100000.nc'\n",
    "dir_in = '/glade/derecho/scratch/wchapman/ADF/f.e.FTORCHmjo_fullCNN_DT/ts/'\n",
    "## --- vars in: \n",
    "\n",
    "file_path = os.path.join(dir_in, f1_in)  # Join the directory and file name\n",
    "DS = xr.open_dataset(file_path)\n",
    "file_path = os.path.join(dir_in, f2_in)  # Join the directory and file name\n",
    "DS2 = xr.open_dataset(file_path)\n",
    "print('.... adding ...')\n",
    "DS['PRECT']=DS['PRECC']+DS2['PRECL']\n",
    "print('.... added ...')\n",
    "# Copy metadata from PRECC to PRECT\n",
    "DS['PRECT'].attrs = DS['PRECC'].attrs\n",
    "# Optional: Update specific attributes if necessary\n",
    "DS['PRECT'].attrs['long_name'] = 'Total precipitation rate (liq+ic)'\n",
    "DS['PRECT'].attrs['units'] = 'm/s'  # Ensure the unit is correct for PRECT\n",
    "DS = DS.drop('PRECC')\n",
    "print('... saving ...')\n",
    "DS.to_netcdf(os.path.join(dir_in, f_out))"
   ]
  },
  {
   "cell_type": "code",
   "execution_count": null,
   "id": "0f3da687-49bc-4588-aa9d-9a5dd62caba5",
   "metadata": {},
   "outputs": [],
   "source": []
  }
 ],
 "metadata": {
  "kernelspec": {
   "display_name": "NPL 2023b",
   "language": "python",
   "name": "npl-2023b"
  },
  "language_info": {
   "codemirror_mode": {
    "name": "ipython",
    "version": 3
   },
   "file_extension": ".py",
   "mimetype": "text/x-python",
   "name": "python",
   "nbconvert_exporter": "python",
   "pygments_lexer": "ipython3",
   "version": "3.10.12"
  }
 },
 "nbformat": 4,
 "nbformat_minor": 5
}
